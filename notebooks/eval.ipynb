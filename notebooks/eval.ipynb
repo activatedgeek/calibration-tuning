{
 "cells": [
  {
   "cell_type": "code",
   "execution_count": null,
   "metadata": {},
   "outputs": [],
   "source": [
    "import pandas as pd"
   ]
  },
  {
   "cell_type": "code",
   "execution_count": null,
   "metadata": {},
   "outputs": [],
   "source": [
    "name = \"eval_7b_mmlu\"\n",
    "results = pd.read_csv(f\"results/{name}.csv\")\n",
    "results = results.rename(columns={\"kind\": \"model\", \"query_kind\": \"query_model\"})\n",
    "\n",
    "base_cols = [\"split\", \"eval_kshot\", \"model\", \"query_model\"]\n",
    "max_cols = [\"acc\", \"unc_acc\"]\n",
    "min_cols = [\"ece\", \"unc_ece\", \"qa_unc_ece\"]\n",
    "\n",
    "mmlu = results.groupby([\"dataset\"] + base_cols).mean(numeric_only=True).reset_index()[base_cols + min_cols + max_cols]\n",
    "mmlu_all = mmlu.groupby(base_cols).mean(numeric_only=True).reset_index()"
   ]
  },
  {
   "cell_type": "code",
   "execution_count": null,
   "metadata": {},
   "outputs": [],
   "source": [
    "mmlu_max = mmlu_all[base_cols + max_cols][(mmlu_all.eval_kshot == 5) & (mmlu_all.split == \"test\")].groupby(base_cols).mean(numeric_only=True)\n",
    "mmlu_max\n",
    "# mmlu_max.style.highlight_max(color = 'lightgreen', axis = 0)"
   ]
  },
  {
   "cell_type": "code",
   "execution_count": null,
   "metadata": {},
   "outputs": [],
   "source": [
    "mmlu_min = mmlu_all[base_cols + min_cols][(mmlu_all.eval_kshot == 5) & (mmlu_all.split == \"test\")].groupby(base_cols).mean(numeric_only=True)\n",
    "# mmlu_min.style.highlight_min(color = 'lightgreen', axis = 0)\n",
    "mmlu_min"
   ]
  },
  {
   "cell_type": "markdown",
   "metadata": {},
   "source": [
    "## Scratch"
   ]
  },
  {
   "cell_type": "code",
   "execution_count": null,
   "metadata": {},
   "outputs": [],
   "source": [
    "# import pandas as pd\n",
    "\n",
    "# raw = pd.read_csv(\"results/eval_7b_mmlu_raw.csv\")\n",
    "\n",
    "# def q(v):\n",
    "#     if isinstance(v, str):\n",
    "#         if \"Llama-2-7b-sub_all_200k-it-xcmpque2\" in v:\n",
    "#             return \"sub_all_200k-it\"\n",
    "#         if \"Llama-2-7b-sub_all_200k_c-uq-only-fcq453jj/checkpoint-1000\" in v:\n",
    "#             return \"sub_all_200k_c-uq-only-ckpt_1000\"\n",
    "#         if \"Llama-2-7b-sub_all_200k_c-uq-only-fcq453jj/checkpoint-5000\" in v:\n",
    "#             return \"sub_all_200k_c-uq-only-ckpt_5000\"\n",
    "#         if \"Llama-2-7b-sub_all_200k_c-uq-only-fcq453jj\" in v:\n",
    "#             return \"sub_all_200k_c-uq-only\"\n",
    "\n",
    "#     return \"base\"\n",
    "\n",
    "# raw[\"model\"] = raw.peft_dir.apply(q)\n",
    "\n",
    "# raw[\"query_model\"] = raw.query_peft_dir.apply(q)\n",
    "\n",
    "# raw = raw.drop(columns=[\"peft_dir\", \"query_peft_dir\"])\n",
    "\n",
    "# raw.to_csv(\"results/eval_7b_mmlu.csv\", index=False)"
   ]
  },
  {
   "cell_type": "code",
   "execution_count": null,
   "metadata": {},
   "outputs": [],
   "source": []
  }
 ],
 "metadata": {
  "kernelspec": {
   "display_name": "llm-calibration",
   "language": "python",
   "name": "python3"
  },
  "language_info": {
   "codemirror_mode": {
    "name": "ipython",
    "version": 3
   },
   "file_extension": ".py",
   "mimetype": "text/x-python",
   "name": "python",
   "nbconvert_exporter": "python",
   "pygments_lexer": "ipython3",
   "version": "3.10.11"
  },
  "orig_nbformat": 4
 },
 "nbformat": 4,
 "nbformat_minor": 2
}
