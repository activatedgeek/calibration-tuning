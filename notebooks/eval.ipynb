{
 "cells": [
  {
   "cell_type": "code",
   "execution_count": null,
   "metadata": {},
   "outputs": [],
   "source": [
    "import pandas as pd"
   ]
  },
  {
   "cell_type": "markdown",
   "metadata": {},
   "source": [
    "## From Raw"
   ]
  },
  {
   "cell_type": "code",
   "execution_count": null,
   "metadata": {},
   "outputs": [],
   "source": [
    "# name = \"eval_7b\"\n",
    "\n",
    "# df = pd.read_csv(f\"results/{name}_raw.csv\")\n",
    "# def kind(v):\n",
    "#     if isinstance(v, str):\n",
    "#         if \"ft\" in v:\n",
    "#             return \"ft\"\n",
    "#         if \"uq\" in v:\n",
    "#             return \"uq\"\n",
    "    \n",
    "#     return \"base\"\n",
    "\n",
    "# df[\"kind\"] = df.peft_dir.apply(kind)\n",
    "# df = df.drop(columns=[\"peft_dir\", \"model_dir\"])\n",
    "\n",
    "# mmlu_all = df[df.dataset.str.contains(\"mmlu\")].groupby([\"kind\", \"split\", \"eval_kshot\"]).mean(numeric_only=True).reset_index()\n",
    "# mmlu_all.seed = mmlu_all.seed.astype(int)\n",
    "# mmlu_all[\"dataset\"] = \"mmlu\"\n",
    "# mmlu_all[\"model_name\"] = df.loc[0][\"model_name\"]\n",
    "\n",
    "# results = pd.concat([df[~df.dataset.str.contains(\"mmlu\")], mmlu_all])\n",
    "# results.to_csv(f\"results/{name}.csv\", index=False)"
   ]
  },
  {
   "cell_type": "markdown",
   "metadata": {},
   "source": [
    "## Final"
   ]
  },
  {
   "cell_type": "code",
   "execution_count": null,
   "metadata": {},
   "outputs": [],
   "source": [
    "# name = \"eval_7b\"\n",
    "# results = pd.read_csv(f\"results/{name}.csv\")\n",
    "# print(sorted(results.dataset.unique()))\n",
    "\n",
    "# dataset = \"arc\"\n",
    "\n",
    "# assert dataset in results.dataset.unique()\n",
    "\n",
    "# viz = results[(results.dataset == dataset) & (results.split == \"test\")].groupby([\"dataset\", \"eval_kshot\", \"split\", \"kind\"]).mean(numeric_only=True).round(decimals=2).drop(columns=[\"N\", \"seed\", \"ece\", \"unc_ece\"])\n",
    "# viz"
   ]
  },
  {
   "cell_type": "markdown",
   "metadata": {},
   "source": [
    "## UQ-Only"
   ]
  },
  {
   "cell_type": "code",
   "execution_count": 12,
   "metadata": {},
   "outputs": [],
   "source": [
    "name = \"eval_7b_mmlu\"\n",
    "results = pd.read_csv(f\"results/{name}.csv\")\n",
    "\n",
    "base_cols = [\"split\", \"eval_kshot\", \"kind\"]\n",
    "max_cols = [\"acc\", \"unc_acc\"]\n",
    "min_cols = [\"ece\", \"unc_ece\", \"qa_unc_ece\"]\n",
    "\n",
    "mmlu = results[~(results.kind == \"base\")].groupby([\"dataset\"] + base_cols).mean(numeric_only=True).reset_index()[base_cols + min_cols + max_cols]\n",
    "mmlu_all = mmlu.groupby(base_cols).mean(numeric_only=True).reset_index()"
   ]
  },
  {
   "cell_type": "code",
   "execution_count": 16,
   "metadata": {},
   "outputs": [
    {
     "data": {
      "text/html": [
       "<style type=\"text/css\">\n",
       "#T_6f2f5_row2_col0, #T_6f2f5_row2_col1 {\n",
       "  background-color: lightgreen;\n",
       "}\n",
       "</style>\n",
       "<table id=\"T_6f2f5\">\n",
       "  <thead>\n",
       "    <tr>\n",
       "      <th class=\"blank\" >&nbsp;</th>\n",
       "      <th class=\"blank\" >&nbsp;</th>\n",
       "      <th class=\"blank level0\" >&nbsp;</th>\n",
       "      <th id=\"T_6f2f5_level0_col0\" class=\"col_heading level0 col0\" >acc</th>\n",
       "      <th id=\"T_6f2f5_level0_col1\" class=\"col_heading level0 col1\" >unc_acc</th>\n",
       "    </tr>\n",
       "    <tr>\n",
       "      <th class=\"index_name level0\" >split</th>\n",
       "      <th class=\"index_name level1\" >eval_kshot</th>\n",
       "      <th class=\"index_name level2\" >kind</th>\n",
       "      <th class=\"blank col0\" >&nbsp;</th>\n",
       "      <th class=\"blank col1\" >&nbsp;</th>\n",
       "    </tr>\n",
       "  </thead>\n",
       "  <tbody>\n",
       "    <tr>\n",
       "      <th id=\"T_6f2f5_level0_row0\" class=\"row_heading level0 row0\" rowspan=\"4\">test</th>\n",
       "      <th id=\"T_6f2f5_level1_row0\" class=\"row_heading level1 row0\" rowspan=\"4\">5</th>\n",
       "      <th id=\"T_6f2f5_level2_row0\" class=\"row_heading level2 row0\" >cls</th>\n",
       "      <td id=\"T_6f2f5_row0_col0\" class=\"data row0 col0\" >0.468067</td>\n",
       "      <td id=\"T_6f2f5_row0_col1\" class=\"data row0 col1\" >0.532078</td>\n",
       "    </tr>\n",
       "    <tr>\n",
       "      <th id=\"T_6f2f5_level2_row1\" class=\"row_heading level2 row1\" >it</th>\n",
       "      <td id=\"T_6f2f5_row1_col0\" class=\"data row1 col0\" >0.473963</td>\n",
       "      <td id=\"T_6f2f5_row1_col1\" class=\"data row1 col1\" >0.481736</td>\n",
       "    </tr>\n",
       "    <tr>\n",
       "      <th id=\"T_6f2f5_level2_row2\" class=\"row_heading level2 row2\" >uq-only</th>\n",
       "      <td id=\"T_6f2f5_row2_col0\" class=\"data row2 col0\" >0.517586</td>\n",
       "      <td id=\"T_6f2f5_row2_col1\" class=\"data row2 col1\" >0.574023</td>\n",
       "    </tr>\n",
       "    <tr>\n",
       "      <th id=\"T_6f2f5_level2_row3\" class=\"row_heading level2 row3\" >ut</th>\n",
       "      <td id=\"T_6f2f5_row3_col0\" class=\"data row3 col0\" >0.516950</td>\n",
       "      <td id=\"T_6f2f5_row3_col1\" class=\"data row3 col1\" >0.516806</td>\n",
       "    </tr>\n",
       "  </tbody>\n",
       "</table>\n"
      ],
      "text/plain": [
       "<pandas.io.formats.style.Styler at 0x7fdf0c36f340>"
      ]
     },
     "execution_count": 16,
     "metadata": {},
     "output_type": "execute_result"
    }
   ],
   "source": [
    "mmlu_max = mmlu_all[base_cols + max_cols][(mmlu_all.eval_kshot == 5) & (mmlu_all.split == \"test\")].groupby(base_cols).mean(numeric_only=True)\n",
    "mmlu_max.style.highlight_max(color = 'lightgreen', axis = 0)"
   ]
  },
  {
   "cell_type": "code",
   "execution_count": 17,
   "metadata": {},
   "outputs": [
    {
     "data": {
      "text/html": [
       "<style type=\"text/css\">\n",
       "#T_16653_row2_col0, #T_16653_row2_col1, #T_16653_row2_col2 {\n",
       "  background-color: lightgreen;\n",
       "}\n",
       "</style>\n",
       "<table id=\"T_16653\">\n",
       "  <thead>\n",
       "    <tr>\n",
       "      <th class=\"blank\" >&nbsp;</th>\n",
       "      <th class=\"blank\" >&nbsp;</th>\n",
       "      <th class=\"blank level0\" >&nbsp;</th>\n",
       "      <th id=\"T_16653_level0_col0\" class=\"col_heading level0 col0\" >ece</th>\n",
       "      <th id=\"T_16653_level0_col1\" class=\"col_heading level0 col1\" >unc_ece</th>\n",
       "      <th id=\"T_16653_level0_col2\" class=\"col_heading level0 col2\" >qa_unc_ece</th>\n",
       "    </tr>\n",
       "    <tr>\n",
       "      <th class=\"index_name level0\" >split</th>\n",
       "      <th class=\"index_name level1\" >eval_kshot</th>\n",
       "      <th class=\"index_name level2\" >kind</th>\n",
       "      <th class=\"blank col0\" >&nbsp;</th>\n",
       "      <th class=\"blank col1\" >&nbsp;</th>\n",
       "      <th class=\"blank col2\" >&nbsp;</th>\n",
       "    </tr>\n",
       "  </thead>\n",
       "  <tbody>\n",
       "    <tr>\n",
       "      <th id=\"T_16653_level0_row0\" class=\"row_heading level0 row0\" rowspan=\"4\">test</th>\n",
       "      <th id=\"T_16653_level1_row0\" class=\"row_heading level1 row0\" rowspan=\"4\">5</th>\n",
       "      <th id=\"T_16653_level2_row0\" class=\"row_heading level2 row0\" >cls</th>\n",
       "      <td id=\"T_16653_row0_col0\" class=\"data row0 col0\" >0.481335</td>\n",
       "      <td id=\"T_16653_row0_col1\" class=\"data row0 col1\" >0.300181</td>\n",
       "      <td id=\"T_16653_row0_col2\" class=\"data row0 col2\" >0.300181</td>\n",
       "    </tr>\n",
       "    <tr>\n",
       "      <th id=\"T_16653_level2_row1\" class=\"row_heading level2 row1\" >it</th>\n",
       "      <td id=\"T_16653_row1_col0\" class=\"data row1 col0\" >0.471840</td>\n",
       "      <td id=\"T_16653_row1_col1\" class=\"data row1 col1\" >0.364137</td>\n",
       "      <td id=\"T_16653_row1_col2\" class=\"data row1 col2\" >0.380337</td>\n",
       "    </tr>\n",
       "    <tr>\n",
       "      <th id=\"T_16653_level2_row2\" class=\"row_heading level2 row2\" >uq-only</th>\n",
       "      <td id=\"T_16653_row2_col0\" class=\"data row2 col0\" >0.254013</td>\n",
       "      <td id=\"T_16653_row2_col1\" class=\"data row2 col1\" >0.135180</td>\n",
       "      <td id=\"T_16653_row2_col2\" class=\"data row2 col2\" >0.176106</td>\n",
       "    </tr>\n",
       "    <tr>\n",
       "      <th id=\"T_16653_level2_row3\" class=\"row_heading level2 row3\" >ut</th>\n",
       "      <td id=\"T_16653_row3_col0\" class=\"data row3 col0\" >0.296331</td>\n",
       "      <td id=\"T_16653_row3_col1\" class=\"data row3 col1\" >0.216673</td>\n",
       "      <td id=\"T_16653_row3_col2\" class=\"data row3 col2\" >0.219536</td>\n",
       "    </tr>\n",
       "  </tbody>\n",
       "</table>\n"
      ],
      "text/plain": [
       "<pandas.io.formats.style.Styler at 0x7fdf0c36ff40>"
      ]
     },
     "execution_count": 17,
     "metadata": {},
     "output_type": "execute_result"
    }
   ],
   "source": [
    "mmlu_min = mmlu_all[base_cols + min_cols][(mmlu_all.eval_kshot == 5) & (mmlu_all.split == \"test\")].groupby(base_cols).mean(numeric_only=True)\n",
    "mmlu_min.style.highlight_min(color = 'lightgreen', axis = 0)"
   ]
  },
  {
   "cell_type": "code",
   "execution_count": null,
   "metadata": {},
   "outputs": [],
   "source": []
  }
 ],
 "metadata": {
  "kernelspec": {
   "display_name": "llm-calibration",
   "language": "python",
   "name": "python3"
  },
  "language_info": {
   "codemirror_mode": {
    "name": "ipython",
    "version": 3
   },
   "file_extension": ".py",
   "mimetype": "text/x-python",
   "name": "python",
   "nbconvert_exporter": "python",
   "pygments_lexer": "ipython3",
   "version": "3.10.11"
  },
  "orig_nbformat": 4
 },
 "nbformat": 4,
 "nbformat_minor": 2
}
