{
 "cells": [
  {
   "cell_type": "code",
   "execution_count": 1,
   "metadata": {},
   "outputs": [],
   "source": [
    "import pandas as pd"
   ]
  },
  {
   "cell_type": "markdown",
   "metadata": {},
   "source": [
    "## From Raw"
   ]
  },
  {
   "cell_type": "code",
   "execution_count": null,
   "metadata": {},
   "outputs": [],
   "source": [
    "# name = \"eval_7b\"\n",
    "\n",
    "# df = pd.read_csv(f\"results/{name}_raw.csv\")\n",
    "# def kind(v):\n",
    "#     if isinstance(v, str):\n",
    "#         if \"ft\" in v:\n",
    "#             return \"ft\"\n",
    "#         if \"uq\" in v:\n",
    "#             return \"uq\"\n",
    "    \n",
    "#     return \"base\"\n",
    "\n",
    "# df[\"kind\"] = df.peft_dir.apply(kind)\n",
    "# df = df.drop(columns=[\"peft_dir\", \"model_dir\"])\n",
    "\n",
    "# mmlu_all = df[df.dataset.str.contains(\"mmlu\")].groupby([\"kind\", \"split\", \"eval_kshot\"]).mean(numeric_only=True).reset_index()\n",
    "# mmlu_all.seed = mmlu_all.seed.astype(int)\n",
    "# mmlu_all[\"dataset\"] = \"mmlu\"\n",
    "# mmlu_all[\"model_name\"] = df.loc[0][\"model_name\"]\n",
    "\n",
    "# results = pd.concat([df[~df.dataset.str.contains(\"mmlu\")], mmlu_all])\n",
    "# results.to_csv(f\"results/{name}.csv\", index=False)"
   ]
  },
  {
   "cell_type": "markdown",
   "metadata": {},
   "source": [
    "## Final"
   ]
  },
  {
   "cell_type": "code",
   "execution_count": 2,
   "metadata": {},
   "outputs": [
    {
     "name": "stdout",
     "output_type": "stream",
     "text": [
      "['anli_r1', 'anli_r2', 'anli_r3', 'arc', 'arc_challenge', 'boolq', 'cb', 'commonsense_qa', 'copa', 'cosmos_qa', 'hellaswag', 'math_qa', 'mmlu', 'multirc', 'obqa', 'piqa', 'sciq', 'snli', 'story_cloze', 'trec', 'truthful_qa', 'winogrande', 'wsc']\n"
     ]
    },
    {
     "data": {
      "text/html": [
       "<div>\n",
       "<style scoped>\n",
       "    .dataframe tbody tr th:only-of-type {\n",
       "        vertical-align: middle;\n",
       "    }\n",
       "\n",
       "    .dataframe tbody tr th {\n",
       "        vertical-align: top;\n",
       "    }\n",
       "\n",
       "    .dataframe thead th {\n",
       "        text-align: right;\n",
       "    }\n",
       "</style>\n",
       "<table border=\"1\" class=\"dataframe\">\n",
       "  <thead>\n",
       "    <tr style=\"text-align: right;\">\n",
       "      <th></th>\n",
       "      <th></th>\n",
       "      <th></th>\n",
       "      <th></th>\n",
       "      <th>acc</th>\n",
       "      <th>unc_acc</th>\n",
       "      <th>qa_unc_ece</th>\n",
       "    </tr>\n",
       "    <tr>\n",
       "      <th>dataset</th>\n",
       "      <th>eval_kshot</th>\n",
       "      <th>split</th>\n",
       "      <th>kind</th>\n",
       "      <th></th>\n",
       "      <th></th>\n",
       "      <th></th>\n",
       "    </tr>\n",
       "  </thead>\n",
       "  <tbody>\n",
       "    <tr>\n",
       "      <th rowspan=\"9\" valign=\"top\">arc</th>\n",
       "      <th rowspan=\"3\" valign=\"top\">0</th>\n",
       "      <th rowspan=\"3\" valign=\"top\">test</th>\n",
       "      <th>base</th>\n",
       "      <td>0.00</td>\n",
       "      <td>1.00</td>\n",
       "      <td>0.34</td>\n",
       "    </tr>\n",
       "    <tr>\n",
       "      <th>ft</th>\n",
       "      <td>0.85</td>\n",
       "      <td>0.85</td>\n",
       "      <td>0.14</td>\n",
       "    </tr>\n",
       "    <tr>\n",
       "      <th>uq</th>\n",
       "      <td>0.83</td>\n",
       "      <td>0.82</td>\n",
       "      <td>0.17</td>\n",
       "    </tr>\n",
       "    <tr>\n",
       "      <th rowspan=\"3\" valign=\"top\">1</th>\n",
       "      <th rowspan=\"3\" valign=\"top\">test</th>\n",
       "      <th>base</th>\n",
       "      <td>0.03</td>\n",
       "      <td>0.98</td>\n",
       "      <td>0.32</td>\n",
       "    </tr>\n",
       "    <tr>\n",
       "      <th>ft</th>\n",
       "      <td>0.84</td>\n",
       "      <td>0.83</td>\n",
       "      <td>0.16</td>\n",
       "    </tr>\n",
       "    <tr>\n",
       "      <th>uq</th>\n",
       "      <td>0.83</td>\n",
       "      <td>0.81</td>\n",
       "      <td>0.19</td>\n",
       "    </tr>\n",
       "    <tr>\n",
       "      <th rowspan=\"3\" valign=\"top\">5</th>\n",
       "      <th rowspan=\"3\" valign=\"top\">test</th>\n",
       "      <th>base</th>\n",
       "      <td>0.67</td>\n",
       "      <td>0.61</td>\n",
       "      <td>0.10</td>\n",
       "    </tr>\n",
       "    <tr>\n",
       "      <th>ft</th>\n",
       "      <td>0.83</td>\n",
       "      <td>0.81</td>\n",
       "      <td>0.18</td>\n",
       "    </tr>\n",
       "    <tr>\n",
       "      <th>uq</th>\n",
       "      <td>0.81</td>\n",
       "      <td>0.77</td>\n",
       "      <td>0.22</td>\n",
       "    </tr>\n",
       "  </tbody>\n",
       "</table>\n",
       "</div>"
      ],
      "text/plain": [
       "                                acc  unc_acc  qa_unc_ece\n",
       "dataset eval_kshot split kind                           \n",
       "arc     0          test  base  0.00     1.00        0.34\n",
       "                         ft    0.85     0.85        0.14\n",
       "                         uq    0.83     0.82        0.17\n",
       "        1          test  base  0.03     0.98        0.32\n",
       "                         ft    0.84     0.83        0.16\n",
       "                         uq    0.83     0.81        0.19\n",
       "        5          test  base  0.67     0.61        0.10\n",
       "                         ft    0.83     0.81        0.18\n",
       "                         uq    0.81     0.77        0.22"
      ]
     },
     "execution_count": 2,
     "metadata": {},
     "output_type": "execute_result"
    }
   ],
   "source": [
    "name = \"eval_7b\"\n",
    "results = pd.read_csv(f\"results/{name}.csv\")\n",
    "print(sorted(results.dataset.unique()))\n",
    "\n",
    "dataset = \"arc\"\n",
    "\n",
    "assert dataset in results.dataset.unique()\n",
    "\n",
    "viz = results[(results.dataset == dataset) & (results.split == \"test\")].groupby([\"dataset\", \"eval_kshot\", \"split\", \"kind\"]).mean(numeric_only=True).round(decimals=2).drop(columns=[\"N\", \"seed\", \"ece\", \"unc_ece\"])\n",
    "viz"
   ]
  },
  {
   "cell_type": "code",
   "execution_count": null,
   "metadata": {},
   "outputs": [],
   "source": []
  }
 ],
 "metadata": {
  "kernelspec": {
   "display_name": "llm-calibration",
   "language": "python",
   "name": "python3"
  },
  "language_info": {
   "codemirror_mode": {
    "name": "ipython",
    "version": 3
   },
   "file_extension": ".py",
   "mimetype": "text/x-python",
   "name": "python",
   "nbconvert_exporter": "python",
   "pygments_lexer": "ipython3",
   "version": "3.10.11"
  },
  "orig_nbformat": 4
 },
 "nbformat": 4,
 "nbformat_minor": 2
}
