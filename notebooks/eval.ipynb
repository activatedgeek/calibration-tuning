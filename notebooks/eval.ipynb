{
 "cells": [
  {
   "cell_type": "code",
   "execution_count": null,
   "metadata": {},
   "outputs": [],
   "source": [
    "import pandas as pd"
   ]
  },
  {
   "cell_type": "markdown",
   "metadata": {},
   "source": [
    "## From Raw"
   ]
  },
  {
   "cell_type": "code",
   "execution_count": null,
   "metadata": {},
   "outputs": [],
   "source": [
    "# name = \"eval_7b\"\n",
    "\n",
    "# df = pd.read_csv(f\"results/{name}_raw.csv\")\n",
    "# def kind(v):\n",
    "#     if isinstance(v, str):\n",
    "#         if \"ft\" in v:\n",
    "#             return \"ft\"\n",
    "#         if \"uq\" in v:\n",
    "#             return \"uq\"\n",
    "    \n",
    "#     return \"base\"\n",
    "\n",
    "# df[\"kind\"] = df.peft_dir.apply(kind)\n",
    "# df = df.drop(columns=[\"peft_dir\", \"model_dir\"])\n",
    "\n",
    "# mmlu_all = df[df.dataset.str.contains(\"mmlu\")].groupby([\"kind\", \"split\", \"eval_kshot\"]).mean(numeric_only=True).reset_index()\n",
    "# mmlu_all.seed = mmlu_all.seed.astype(int)\n",
    "# mmlu_all[\"dataset\"] = \"mmlu\"\n",
    "# mmlu_all[\"model_name\"] = df.loc[0][\"model_name\"]\n",
    "\n",
    "# results = pd.concat([df[~df.dataset.str.contains(\"mmlu\")], mmlu_all])\n",
    "# results.to_csv(f\"results/{name}.csv\", index=False)"
   ]
  },
  {
   "cell_type": "markdown",
   "metadata": {},
   "source": [
    "## Final"
   ]
  },
  {
   "cell_type": "code",
   "execution_count": null,
   "metadata": {},
   "outputs": [],
   "source": [
    "# name = \"eval_7b\"\n",
    "# results = pd.read_csv(f\"results/{name}.csv\")\n",
    "# print(sorted(results.dataset.unique()))\n",
    "\n",
    "# dataset = \"arc\"\n",
    "\n",
    "# assert dataset in results.dataset.unique()\n",
    "\n",
    "# viz = results[(results.dataset == dataset) & (results.split == \"test\")].groupby([\"dataset\", \"eval_kshot\", \"split\", \"kind\"]).mean(numeric_only=True).round(decimals=2).drop(columns=[\"N\", \"seed\", \"ece\", \"unc_ece\"])\n",
    "# viz"
   ]
  },
  {
   "cell_type": "markdown",
   "metadata": {},
   "source": [
    "## UQ-Only"
   ]
  },
  {
   "cell_type": "code",
   "execution_count": null,
   "metadata": {},
   "outputs": [],
   "source": [
    "# name = \"eval_7b_mmlu\"\n",
    "\n",
    "# df = pd.read_csv(f\"results/{name}_raw.csv\")\n",
    "# def kind(v):\n",
    "#     if isinstance(v, str):\n",
    "#         if \"it\" in v:\n",
    "#             return \"it\"\n",
    "#         elif \"ut\" in v:\n",
    "#             return \"ut\"\n",
    "#         elif \"uq-only\" in v:\n",
    "#             return \"uq-only\"\n",
    "    \n",
    "#     return \"base\"\n",
    "\n",
    "# df[\"kind\"] = df.peft_dir.apply(kind)\n",
    "# df = df.drop(columns=[\"peft_dir\"])\n",
    "\n",
    "# df.to_csv(f\"results/{name}.csv\", index=False)"
   ]
  },
  {
   "cell_type": "code",
   "execution_count": null,
   "metadata": {},
   "outputs": [],
   "source": [
    "name = \"eval_7b_mmlu\"\n",
    "results = pd.read_csv(f\"results/{name}.csv\")\n",
    "\n",
    "base_cols = [\"split\", \"eval_kshot\", \"kind\"]\n",
    "max_cols = [\"acc\", \"unc_acc\"]\n",
    "min_cols = [\"ece\", \"unc_ece\", \"qa_unc_ece\"]\n",
    "\n",
    "mmlu = results[~(results.kind == \"base\")].groupby([\"dataset\"] + base_cols).mean(numeric_only=True).reset_index()[base_cols + min_cols + max_cols]\n",
    "mmlu_all = mmlu.groupby(base_cols).mean(numeric_only=True).reset_index()"
   ]
  },
  {
   "cell_type": "code",
   "execution_count": null,
   "metadata": {},
   "outputs": [],
   "source": [
    "results[results.dataset == \"mmlu:business_ethics\"].groupby(base_cols).mean(numeric_only=True)"
   ]
  },
  {
   "cell_type": "code",
   "execution_count": null,
   "metadata": {},
   "outputs": [],
   "source": [
    "mmlu_max = mmlu_all[base_cols + max_cols][(mmlu_all.eval_kshot == 1) & (mmlu_all.split == \"test\")].groupby(base_cols).mean(numeric_only=True)\n",
    "mmlu_max.style.highlight_max(color = 'lightgreen', axis = 0)"
   ]
  },
  {
   "cell_type": "code",
   "execution_count": null,
   "metadata": {},
   "outputs": [],
   "source": [
    "mmlu_min = mmlu_all[base_cols + min_cols][(mmlu_all.eval_kshot == 1) & (mmlu_all.split == \"test\")].groupby(base_cols).mean(numeric_only=True)\n",
    "mmlu_min.style.highlight_min(color = 'lightgreen', axis = 0)"
   ]
  }
 ],
 "metadata": {
  "kernelspec": {
   "display_name": "llm-calibration",
   "language": "python",
   "name": "python3"
  },
  "language_info": {
   "codemirror_mode": {
    "name": "ipython",
    "version": 3
   },
   "file_extension": ".py",
   "mimetype": "text/x-python",
   "name": "python",
   "nbconvert_exporter": "python",
   "pygments_lexer": "ipython3",
   "version": "3.10.11"
  },
  "orig_nbformat": 4
 },
 "nbformat": 4,
 "nbformat_minor": 2
}
