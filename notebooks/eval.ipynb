{
 "cells": [
  {
   "cell_type": "code",
   "execution_count": 2,
   "metadata": {},
   "outputs": [],
   "source": [
    "import pandas as pd"
   ]
  },
  {
   "cell_type": "markdown",
   "metadata": {},
   "source": [
    "## From Raw"
   ]
  },
  {
   "cell_type": "code",
   "execution_count": null,
   "metadata": {},
   "outputs": [],
   "source": [
    "# name = \"eval_7b\"\n",
    "\n",
    "# df = pd.read_csv(f\"results/{name}_raw.csv\")\n",
    "# def kind(v):\n",
    "#     if isinstance(v, str):\n",
    "#         if \"ft\" in v:\n",
    "#             return \"ft\"\n",
    "#         if \"uq\" in v:\n",
    "#             return \"uq\"\n",
    "    \n",
    "#     return \"base\"\n",
    "\n",
    "# df[\"kind\"] = df.peft_dir.apply(kind)\n",
    "# df = df.drop(columns=[\"fp8\", \"peft_dir\", \"model_dir\"])\n",
    "\n",
    "# mmlu_all = df[df.dataset.str.contains(\"mmlu\")].groupby([\"kind\", \"split\", \"eval_kshot\"]).mean(numeric_only=True).reset_index()\n",
    "# mmlu_all.seed = mmlu_all.seed.astype(int)\n",
    "# mmlu_all[\"dataset\"] = \"mmlu\"\n",
    "# mmlu_all[\"model_name\"] = df.loc[0][\"model_name\"]\n",
    "\n",
    "# results = pd.concat([df[~df.dataset.str.contains(\"mmlu\")], mmlu_all])\n",
    "# results.to_csv(f\"results/{name}.csv\", index=False)"
   ]
  },
  {
   "cell_type": "markdown",
   "metadata": {},
   "source": [
    "## Final"
   ]
  },
  {
   "cell_type": "code",
   "execution_count": 3,
   "metadata": {},
   "outputs": [
    {
     "data": {
      "text/plain": [
       "['anli_r1',\n",
       " 'anli_r2',\n",
       " 'anli_r3',\n",
       " 'arc',\n",
       " 'arc_challenge',\n",
       " 'boolq',\n",
       " 'cb',\n",
       " 'commonsense_qa',\n",
       " 'copa',\n",
       " 'cosmos_qa',\n",
       " 'hellaswag',\n",
       " 'math_qa',\n",
       " 'mmlu',\n",
       " 'multirc',\n",
       " 'obqa',\n",
       " 'piqa',\n",
       " 'sciq',\n",
       " 'snli',\n",
       " 'story_cloze',\n",
       " 'trec',\n",
       " 'truthful_qa',\n",
       " 'winogrande',\n",
       " 'wsc']"
      ]
     },
     "execution_count": 3,
     "metadata": {},
     "output_type": "execute_result"
    }
   ],
   "source": [
    "name = \"eval_13b\"\n",
    "results = pd.read_csv(f\"results/{name}.csv\")\n",
    "sorted(results.dataset.unique())"
   ]
  },
  {
   "cell_type": "code",
   "execution_count": null,
   "metadata": {},
   "outputs": [],
   "source": [
    "dataset = \"mmlu\"\n",
    "viz = results[results.dataset == dataset].groupby([\"dataset\", \"eval_kshot\", \"split\", \"kind\"]).mean(numeric_only=True).round(decimals=2).drop(columns=[\"N\", \"seed\", \"ece\", \"unc_ece\"])\n",
    "viz"
   ]
  },
  {
   "cell_type": "code",
   "execution_count": null,
   "metadata": {},
   "outputs": [],
   "source": [
    "print(viz.to_latex())"
   ]
  },
  {
   "cell_type": "code",
   "execution_count": null,
   "metadata": {},
   "outputs": [],
   "source": []
  }
 ],
 "metadata": {
  "kernelspec": {
   "display_name": "llm-calibration",
   "language": "python",
   "name": "python3"
  },
  "language_info": {
   "codemirror_mode": {
    "name": "ipython",
    "version": 3
   },
   "file_extension": ".py",
   "mimetype": "text/x-python",
   "name": "python",
   "nbconvert_exporter": "python",
   "pygments_lexer": "ipython3",
   "version": "3.10.12"
  },
  "orig_nbformat": 4
 },
 "nbformat": 4,
 "nbformat_minor": 2
}
