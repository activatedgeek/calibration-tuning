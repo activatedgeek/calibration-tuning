{
 "cells": [
  {
   "cell_type": "code",
   "execution_count": null,
   "metadata": {},
   "outputs": [],
   "source": [
    "import os\n",
    "from torch.distributions import Categorical\n",
    "import seaborn as sns\n",
    "import matplotlib.pyplot as plt\n",
    "from tqdm.auto import tqdm"
   ]
  },
  {
   "cell_type": "code",
   "execution_count": null,
   "metadata": {},
   "outputs": [],
   "source": [
    "import os\n",
    "\n",
    "base_dir = f\"{os.environ.get('BLOBDIR')}/evals/eval-mmlu_oe-base-j7bezfxq\"\n",
    "base_map = {dd.split('-')[1]: f\"{base_dir}/{dd}/test\" for dd in os.listdir(base_dir)}\n",
    "\n",
    "ct_dir = f\"{os.environ.get('BLOBDIR')}/evals/eval-mmlu_oe-ct-f99ghkak\"\n",
    "ct_map = {dd.split('-')[1]: f\"{ct_dir}/{dd}/test\" for dd in os.listdir(ct_dir)}\n",
    "\n",
    "ds_keys = sorted(list(filter(\n",
    "    lambda x: x not in [\"college_physics\", \"professional_law\"], \n",
    "    set(base_map.keys()).intersection(set(ct_map.keys())))))\n",
    "len(ds_keys)"
   ]
  },
  {
   "cell_type": "code",
   "execution_count": null,
   "metadata": {},
   "outputs": [],
   "source": [
    "import pandas as pd\n",
    "import torch\n",
    "from llm.models import get_model\n",
    "from llm.datasets import get_token_vec\n",
    "\n",
    "tokenizer = get_model(\"llama2_13b_chat_tokenizer\")\n",
    "token_vec = get_token_vec(tokenizer, format=\"roman_choice\")\n",
    "\n",
    "def load_metrics(path):\n",
    "    row_paths = [r for r in os.listdir(path) if r.endswith('.csv')]\n",
    "    rows = pd.concat([pd.read_csv(f\"{path}/{r}\") for r in row_paths], ignore_index=True)\n",
    "\n",
    "    q_paths = [r for r in os.listdir(path) if r.endswith('.pt')]\n",
    "    pt = [torch.load(f\"{path}/{q}\", map_location=\"cpu\") for q in q_paths]\n",
    "    \n",
    "    q_labels = torch.cat([p[\"fuzzy_gpt-3.5-turbo-1106\"][\"q_labels\"] for p in pt], dim=0)\n",
    "    q_logits = torch.cat([p[\"fuzzy_gpt-3.5-turbo-1106\"][\"q_logits\"] for p in pt], dim=0)\n",
    "    \n",
    "    assert len(rows) == len(q_labels)\n",
    "    assert len(rows) == len(q_logits)\n",
    "\n",
    "    q_p = q_logits[:, token_vec].softmax(dim=-1)\n",
    "\n",
    "    return rows, q_labels, q_p\n",
    "\n",
    "def prep_dataset(dataset):\n",
    "    base_df, base_labels, base_p = load_metrics(base_map[dataset])\n",
    "    base_df = pd.DataFrame({\n",
    "        \"target_lengths\": base_df.target.apply(lambda t: len(t)).values,\n",
    "        \"entropy\": Categorical(probs=base_p).entropy().numpy(),\n",
    "        \"p_yes\": base_p[:, 1].numpy(),\n",
    "        \"correct\": (base_labels == base_p.argmax(dim=-1)).long().numpy(),\n",
    "        \"model\": \"base\",\n",
    "        \"dataset\": dataset,\n",
    "    })\n",
    "\n",
    "    ct_df, ct_labels, ct_p = load_metrics(ct_map[dataset])\n",
    "    ct_df = pd.DataFrame({\n",
    "        \"target_lengths\": ct_df.target.apply(lambda t: len(t)).values,\n",
    "        \"entropy\": Categorical(probs=ct_p).entropy().numpy(),\n",
    "        \"p_yes\": ct_p[:, 1].numpy(),\n",
    "        \"correct\": (ct_labels == ct_p.argmax(dim=-1)).long().numpy(),\n",
    "        \"model\": \"ct\",\n",
    "        \"dataset\": dataset,\n",
    "    })\n",
    "\n",
    "    return pd.concat([base_df, ct_df], ignore_index=True)"
   ]
  },
  {
   "cell_type": "code",
   "execution_count": null,
   "metadata": {},
   "outputs": [],
   "source": [
    "# sns.set(font_scale=1.5, style=\"whitegrid\")\n",
    "\n",
    "# for ds in ds_keys[:1]:\n",
    "#     df = prep_dataset(ds)\n",
    "\n",
    "#     fig, axes = plt.subplots(1, 2, figsize=(7, 4), sharex=True, sharey=True)\n",
    "\n",
    "#     for i, m in enumerate([\"base\", \"ct\"]):\n",
    "#         sns.kdeplot(\n",
    "#             data=df[(df.labels.isin([0,1])) & (df.model == m)],\n",
    "#             x=\"target_lengths\", y=\"p_yes\",\n",
    "#             # fill=True,\n",
    "#             thresh=0,\n",
    "#             levels=15,\n",
    "#             ax=axes[i],\n",
    "#             cmap=sns.color_palette(\"coolwarm\", as_cmap=True),\n",
    "#         )\n",
    "\n",
    "#     fig.suptitle(ds)\n",
    "\n",
    "#     fig.tight_layout()\n",
    "#     fig.show()"
   ]
  },
  {
   "cell_type": "code",
   "execution_count": null,
   "metadata": {},
   "outputs": [],
   "source": [
    "\n",
    "sns.set(font_scale=1.5, style=\"whitegrid\")\n",
    "\n",
    "for ds in tqdm(ds_keys):\n",
    "    df = prep_dataset(ds)\n",
    "    df = df[(df.model == \"ct\") & (df.correct.isin([0,1]))]\n",
    "\n",
    "    g = sns.jointplot(\n",
    "        data=df,\n",
    "        x=\"target_lengths\", y=\"p_yes\",\n",
    "        kind=\"reg\",\n",
    "        color=sns.color_palette(\"tab20\")[8],\n",
    "        height=4.5,\n",
    "    )\n",
    "    g.ax_joint.spines['left'].set_position('zero')\n",
    "    g.ax_joint.set(xlabel=\"Target Length\", ylabel=r\"Confidence\")\n",
    "    g.fig.suptitle(ds)\n",
    "    g.fig.tight_layout()\n",
    "    # g.fig.savefig(f\"length_figs/{ds}.pdf\", bbox_inches=\"tight\")\n"
   ]
  },
  {
   "cell_type": "code",
   "execution_count": null,
   "metadata": {},
   "outputs": [],
   "source": []
  }
 ],
 "metadata": {
  "kernelspec": {
   "display_name": "Python 3",
   "language": "python",
   "name": "python3"
  },
  "language_info": {
   "codemirror_mode": {
    "name": "ipython",
    "version": 3
   },
   "file_extension": ".py",
   "mimetype": "text/x-python",
   "name": "python",
   "nbconvert_exporter": "python",
   "pygments_lexer": "ipython3",
   "version": "3.10.13"
  }
 },
 "nbformat": 4,
 "nbformat_minor": 2
}
