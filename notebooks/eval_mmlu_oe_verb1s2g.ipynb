{
 "cells": [
  {
   "cell_type": "code",
   "execution_count": 1,
   "metadata": {},
   "outputs": [],
   "source": [
    "import matplotlib.pyplot as plt\n",
    "import pandas as pd\n",
    "import seaborn as sns\n",
    "import numpy as np"
   ]
  },
  {
   "cell_type": "code",
   "execution_count": 2,
   "metadata": {},
   "outputs": [],
   "source": [
    "# # Raw preprocessing\n",
    "# results = pd.read_csv(\"results/eval_mmlu-13b_chat-verb1s2g.csv\")\n",
    "# results = results.rename(columns={'fuzzy_gpt-3.5-turbo-1106_acc': 'acc',\n",
    "#  'fuzzy_gpt-3.5-turbo-1106_unc_acc': 'unc_acc',\n",
    "#  'fuzzy_gpt-3.5-turbo-1106_unc_ece': 'ece'})\n",
    "# results.loc[:, \"method\"] = \"verb1s2g\"\n",
    "# results.to_csv(\"results/eval_mmlu-13b_chat-verb1s2g.csv\", index=False)"
   ]
  },
  {
   "cell_type": "code",
   "execution_count": null,
   "metadata": {},
   "outputs": [],
   "source": []
  }
 ],
 "metadata": {
  "kernelspec": {
   "display_name": "Python 3",
   "language": "python",
   "name": "python3"
  },
  "language_info": {
   "codemirror_mode": {
    "name": "ipython",
    "version": 3
   },
   "file_extension": ".py",
   "mimetype": "text/x-python",
   "name": "python",
   "nbconvert_exporter": "python",
   "pygments_lexer": "ipython3",
   "version": "3.10.13"
  }
 },
 "nbformat": 4,
 "nbformat_minor": 2
}
