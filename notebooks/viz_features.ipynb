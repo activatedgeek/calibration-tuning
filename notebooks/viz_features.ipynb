{
 "cells": [
  {
   "cell_type": "code",
   "execution_count": null,
   "metadata": {},
   "outputs": [],
   "source": [
    "import numpy as np\n",
    "import matplotlib.pyplot as plt\n",
    "import seaborn as sns\n",
    "import pandas as pd\n",
    "import umap\n",
    "from sklearn.preprocessing import StandardScaler"
   ]
  },
  {
   "cell_type": "code",
   "execution_count": null,
   "metadata": {},
   "outputs": [],
   "source": [
    "import torch\n",
    "features = torch.load(\"\")\n",
    "\n",
    "query_features = torch.cat(features[\"features\"], dim=0).float().cpu().numpy()\n",
    "query_features = StandardScaler().fit_transform(query_features)\n",
    "query_labels = torch.cat(features[\"labels\"], dim=0).long().cpu().numpy()\n",
    "\n",
    "del features\n",
    "\n",
    "query_features.shape, query_labels.shape"
   ]
  },
  {
   "cell_type": "code",
   "execution_count": null,
   "metadata": {},
   "outputs": [],
   "source": [
    "np.mean(query_labels)"
   ]
  },
  {
   "cell_type": "code",
   "execution_count": null,
   "metadata": {},
   "outputs": [],
   "source": [
    "projector = umap.UMAP()\n",
    "projected_features = projector.fit_transform(query_features)\n",
    "viz_df = pd.DataFrame({\n",
    "    \"x\": projected_features[:, 0],\n",
    "    \"y\": projected_features[:, 1],\n",
    "    \"labels\": query_labels,\n",
    "})\n",
    "\n",
    "viz_df"
   ]
  },
  {
   "cell_type": "code",
   "execution_count": null,
   "metadata": {},
   "outputs": [],
   "source": [
    "fig, ax = plt.subplots(figsize=(5,5))\n",
    "\n",
    "sns.scatterplot(ax=ax, data=viz_df, \n",
    "                x=\"x\", y=\"y\", hue=\"labels\",\n",
    "                palette=sns.color_palette(\"Set2\", 2))\n",
    "\n",
    "fig.tight_layout()\n",
    "fig.show()"
   ]
  },
  {
   "cell_type": "code",
   "execution_count": null,
   "metadata": {},
   "outputs": [],
   "source": []
  }
 ],
 "metadata": {
  "kernelspec": {
   "display_name": "Python 3",
   "language": "python",
   "name": "python3"
  },
  "language_info": {
   "codemirror_mode": {
    "name": "ipython",
    "version": 3
   },
   "file_extension": ".py",
   "mimetype": "text/x-python",
   "name": "python",
   "nbconvert_exporter": "python",
   "pygments_lexer": "ipython3",
   "version": "3.10.13"
  }
 },
 "nbformat": 4,
 "nbformat_minor": 2
}
