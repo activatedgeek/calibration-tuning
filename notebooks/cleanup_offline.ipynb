{
 "cells": [
  {
   "cell_type": "code",
   "execution_count": null,
   "metadata": {},
   "outputs": [],
   "source": [
    "import pandas as pd\n",
    "import os\n",
    "\n",
    "csv_folder = f\"{os.environ.get('DATADIR')}/llm-calibration/llama2-13b_chat-all_20k-offline\"\n",
    "\n",
    "df = pd.concat([pd.read_csv(f\"{csv_folder}/validation/{i}.csv\") for i in range(1)], ignore_index=True)\n",
    "df"
   ]
  },
  {
   "cell_type": "code",
   "execution_count": null,
   "metadata": {},
   "outputs": [],
   "source": [
    "df[\"output\"] = df[\"output\"].apply(lambda x: str(x).split(\"\\n\")[0])\n",
    "df[\"output\"] = df[\"output\"].apply(lambda x: str(x).strip(\"\\n\").strip())\n",
    "df = df[df[\"output\"] != \"\"]\n",
    "df = df[df[\"output\"] != \"nan\"]\n",
    "\n",
    "filter_out = [\n",
    "    \"<most likely answer, as short as possible; not a complete sentence, just the answer!>\",\n",
    "    \"<most likely answer, as short as possible>\",\n",
    "    \"<insert answer here>\",\n",
    "    \"<insert your answer here>\",\n",
    "    \"<your answer here>\",\n",
    "    \"<your answer here, as short as possible>\",\n",
    "    \"<your answer here, as short as possible!>\",\n",
    "    \"<best answer, as short as possible>\",\n",
    "    \"_______________\",\n",
    "    \"Note: I'll give you a hint\",\n",
    "    \"Note: I'll provide the next question after you answer this one\"\n",
    "    \"Please provide your answer\",\n",
    "    \"Which of the following is true?\",\n",
    "]\n",
    "\n",
    "#filter out any outputs that contain any of the above strings\n",
    "for fo in filter_out:\n",
    "    df = df[~df[\"output\"].str.contains(fo)]"
   ]
  }
 ],
 "metadata": {
  "kernelspec": {
   "display_name": "Python 3",
   "language": "python",
   "name": "python3"
  },
  "language_info": {
   "codemirror_mode": {
    "name": "ipython",
    "version": 3
   },
   "file_extension": ".py",
   "mimetype": "text/x-python",
   "name": "python",
   "nbconvert_exporter": "python",
   "pygments_lexer": "ipython3",
   "version": "3.10.13"
  }
 },
 "nbformat": 4,
 "nbformat_minor": 2
}
