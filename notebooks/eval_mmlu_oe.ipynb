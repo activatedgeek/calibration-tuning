{
 "cells": [
  {
   "cell_type": "code",
   "execution_count": null,
   "metadata": {},
   "outputs": [],
   "source": [
    "import matplotlib.pyplot as plt\n",
    "import pandas as pd\n",
    "import seaborn as sns\n",
    "import numpy as np"
   ]
  },
  {
   "cell_type": "code",
   "execution_count": null,
   "metadata": {},
   "outputs": [],
   "source": [
    "results = pd.read_csv(\"results/eval_mmlu-13b_chat-oe.csv\")"
   ]
  },
  {
   "cell_type": "code",
   "execution_count": null,
   "metadata": {},
   "outputs": [],
   "source": [
    "dname_map = {d: idx + 1 for idx, d in enumerate(results.category.unique())}\n",
    "\n",
    "plt_results = results[results.split == \"test\"]\n",
    "plt_results[\"task_idx\"] = results.category.apply(lambda d: dname_map[d])\n",
    "plt_results[\"ece_100\"] = results[\"ece\"] * 100.\n",
    "plt_results[\"acc_100\"] = results[\"acc\"] * 100.\n",
    "plt_results"
   ]
  },
  {
   "cell_type": "code",
   "execution_count": null,
   "metadata": {},
   "outputs": [],
   "source": [
    "sns.set_theme(font_scale=6., style=\"whitegrid\")\n",
    "\n",
    "fig, ax = plt.subplots(figsize=(200, 40))\n",
    "\n",
    "ax = sns.barplot(ax=ax, data=plt_results,\n",
    "                 x=\"task_idx\", y=\"ece_100\", hue=\"method\",\n",
    "                 width=0.68,\n",
    "                 hue_order=[\"ut_13b_chat\", \"raw_13b_chat\"],\n",
    "                 palette=sns.color_palette(\"tab20\")[8:10])\n",
    "\n",
    "ax.set_ylabel(r'$\\mathrm{ECE} (\\%)$', fontsize=250, labelpad=100)\n",
    "# ax.set_yticks(np.arange(0, 60 + 1e-3, 10))\n",
    "ax.set_yticklabels(ax.get_yticklabels(), fontsize=150)\n",
    "\n",
    "ax.set_xlabel('MMLU Task ID', fontsize=250, labelpad=100)\n",
    "ax.set_xticklabels(ax.get_xticklabels(), fontsize=150)\n",
    "\n",
    "handles, labels = ax.get_legend_handles_labels()\n",
    "label_map = { \"raw_13b_chat\": \"Base\", \"ut_13b_chat\": \"UT\" }\n",
    "labels = [label_map[l] for l in labels]\n",
    "\n",
    "ax.legend(handles=handles, labels=labels, loc='best',\n",
    "          title='', title_fontsize=200,\n",
    "          prop=dict(size=180))#, bbox_to_anchor=(.91, .7, .1, .1))\n",
    "\n",
    "fig.tight_layout()\n",
    "fig.show()\n",
    "# fig.savefig(\"mmlu_oe_ece_comparison.pdf\", bbox_inches=\"tight\")"
   ]
  },
  {
   "cell_type": "code",
   "execution_count": null,
   "metadata": {},
   "outputs": [],
   "source": [
    "sns.set_theme(font_scale=6., style=\"whitegrid\")\n",
    "\n",
    "fig, ax = plt.subplots(figsize=(200, 40))\n",
    "\n",
    "ax = sns.barplot(ax=ax, data=plt_results,\n",
    "                 x=\"task_idx\", y=\"acc_100\", hue=\"method\",\n",
    "                 width=0.68,\n",
    "                 hue_order=[\"ut_13b_chat\", \"raw_13b_chat\"],\n",
    "                 palette=sns.color_palette(\"tab20\")[8:10])\n",
    "\n",
    "ax.set_ylabel('Query Acc. (%)', fontsize=250, labelpad=100)\n",
    "# ax.set_yticks(np.arange(0, 70 + 1e-3, 10))\n",
    "ax.set_yticklabels(ax.get_yticklabels(), fontsize=150)\n",
    "\n",
    "ax.set_xlabel('MMLU Task ID', fontsize=250, labelpad=100)\n",
    "ax.set_xticklabels(ax.get_xticklabels(), fontsize=150)\n",
    "\n",
    "handles, labels = ax.get_legend_handles_labels()\n",
    "label_map = { \"raw_13b_chat\": \"Base\", \"ut_13b_chat\": \"UT\" }\n",
    "labels = [label_map[l] for l in labels]\n",
    "\n",
    "ax.legend(handles=handles, labels=labels, loc='best',\n",
    "          title='', title_fontsize=200,\n",
    "          prop=dict(size=180))#, bbox_to_anchor=(.91, .7, .1, .1))\n",
    "\n",
    "fig.tight_layout()\n",
    "fig.show()\n",
    "# fig.savefig(\"mmlu_oe_qacc_comparison.pdf\", bbox_inches=\"tight\")"
   ]
  },
  {
   "cell_type": "code",
   "execution_count": null,
   "metadata": {},
   "outputs": [],
   "source": []
  }
 ],
 "metadata": {
  "kernelspec": {
   "display_name": "Python 3",
   "language": "python",
   "name": "python3"
  },
  "language_info": {
   "codemirror_mode": {
    "name": "ipython",
    "version": 3
   },
   "file_extension": ".py",
   "mimetype": "text/x-python",
   "name": "python",
   "nbconvert_exporter": "python",
   "pygments_lexer": "ipython3",
   "version": "3.10.13"
  }
 },
 "nbformat": 4,
 "nbformat_minor": 2
}
