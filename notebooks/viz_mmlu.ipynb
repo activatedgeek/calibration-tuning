{
 "cells": [
  {
   "cell_type": "code",
   "execution_count": null,
   "metadata": {},
   "outputs": [],
   "source": [
    "import pandas as pd\n",
    "\n",
    "results = pd.read_csv(f\"results/eval_mmlu-7b-sub_200k-ut.csv\")\n",
    "model_map = {\n",
    "    \"Llama2-7b-all_200k_c-ut-new-hqg9f60c\": r\"$\\mathrm{UT}$\",\n",
    "    \"Llama-2-7b-sub_all_200k-it-xcmpque2\": r\"$\\mathrm{IT}$\",\n",
    "}\n",
    "results[\"train_mode\"] = results.query_model.apply(lambda m: model_map[m])\n",
    "results = results[results.split == \"test\"]\n",
    "# results"
   ]
  },
  {
   "cell_type": "code",
   "execution_count": null,
   "metadata": {},
   "outputs": [],
   "source": [
    "dname_map = {d: idx + 1 for idx, d in enumerate(results.dataset.unique())}\n",
    "\n",
    "plt_results = results[results.split == \"test\"]\n",
    "plt_results[\"task_idx\"] = results.dataset.apply(lambda d: dname_map[d])\n",
    "plt_results[\"qa_unc_ece_100\"] = results[\"qa_unc_ece\"] * 100.\n",
    "plt_results[\"unc_acc_100\"] = results[\"unc_acc\"] * 100.\n",
    "plt_results"
   ]
  },
  {
   "cell_type": "markdown",
   "metadata": {},
   "source": [
    "## Relative Improvement"
   ]
  },
  {
   "cell_type": "code",
   "execution_count": null,
   "metadata": {},
   "outputs": [],
   "source": [
    "# import seaborn as sns\n",
    "# import matplotlib.pyplot as plt\n",
    "# import numpy as np\n",
    "\n",
    "# sns.set(font_scale=2., style='whitegrid')\n",
    "\n",
    "# metric = \"qa_unc_ece_100\"\n",
    "# flip = -1 if metric in [\"ece\", \"qa_unc_ece\", \"qa_unc_ece_100\"] else 1\n",
    "\n",
    "# ut_metric = plt_results[plt_results.train_mode == \"$\\mathrm{UT}$\"][[metric]].values.flatten()\n",
    "# it_metric = plt_results[plt_results.train_mode == \"$\\mathrm{IT}$\"][[metric]].values.flatten()\n",
    "\n",
    "# print(sum(flip * ut_metric <= flip * it_metric))\n",
    "\n",
    "# fig, ax = plt.subplots(figsize=(5,5))\n",
    "\n",
    "# ax.set_yticks(np.arange(0, 15, 5))\n",
    "\n",
    "# ax.hist((((ut_metric - it_metric) * flip / it_metric)) * 100.)\n",
    "\n",
    "# fig.show()"
   ]
  },
  {
   "cell_type": "markdown",
   "metadata": {},
   "source": [
    "## Task Breakdown"
   ]
  },
  {
   "cell_type": "code",
   "execution_count": null,
   "metadata": {},
   "outputs": [],
   "source": [
    "import seaborn as sns\n",
    "import matplotlib.pyplot as plt\n",
    "import numpy as np\n",
    "\n",
    "sns.set(font_scale=6., style='whitegrid')\n",
    "\n",
    "fig, ax = plt.subplots(figsize=(200, 40))\n",
    "\n",
    "sns.barplot(ax=ax, data=plt_results,\n",
    "            x=\"task_idx\", y=\"unc_acc_100\", hue=\"train_mode\",\n",
    "            width=0.68,\n",
    "            palette=sns.color_palette(\"tab20\")[8:10])\n",
    "\n",
    "ax.set_ylabel('UQ Acc. (%)', fontsize=250, labelpad=100)\n",
    "ax.set_ylim(30, 80)\n",
    "ax.set_yticks(np.arange(30, 80 + 1e-3, 10))\n",
    "ax.set_yticklabels(ax.get_yticklabels(), fontsize=150)\n",
    "\n",
    "ax.set_xlabel('MMLU Task ID', fontsize=250, labelpad=100)\n",
    "ax.set_xticklabels(ax.get_xticklabels(), fontsize=150)\n",
    "\n",
    "handles, labels = ax.get_legend_handles_labels()\n",
    "ax.legend(handles=handles, labels=labels, loc='best',\n",
    "          title='', title_fontsize=200,\n",
    "          prop=dict(size=180), bbox_to_anchor=(.91, .7, .1, .1))\n",
    "\n",
    "fig.tight_layout()\n",
    "fig.show()\n",
    "# fig.savefig(\"mmlu_correctness_comparison.pdf\", bbox_inches=\"tight\")"
   ]
  },
  {
   "cell_type": "code",
   "execution_count": null,
   "metadata": {},
   "outputs": [],
   "source": [
    "import seaborn as sns\n",
    "import matplotlib.pyplot as plt\n",
    "import numpy as np\n",
    "\n",
    "sns.set(font_scale=6., style='whitegrid')\n",
    "\n",
    "fig, ax = plt.subplots(figsize=(200, 40))\n",
    "\n",
    "sns.barplot(ax=ax, data=plt_results,\n",
    "            x=\"task_idx\", y=\"qa_unc_ece_100\", hue=\"train_mode\",\n",
    "            width=0.68,\n",
    "            palette=sns.color_palette(\"tab20\")[8:10])\n",
    "\n",
    "ax.set_ylabel(r'$\\mathrm{ECE} (\\%)$', fontsize=250, labelpad=100)\n",
    "ax.set_yticks(np.arange(0, 30 + 1e-3, 10))\n",
    "ax.set_yticklabels(ax.get_yticklabels(), fontsize=150)\n",
    "\n",
    "ax.set_xlabel('MMLU Task ID', fontsize=250, labelpad=100)\n",
    "ax.set_xticklabels(ax.get_xticklabels(), fontsize=150)\n",
    "\n",
    "handles, labels = ax.get_legend_handles_labels()\n",
    "ax.legend(handles=handles, labels=labels, loc='upper left',\n",
    "          title='', title_fontsize=200,\n",
    "          prop=dict(size=180))\n",
    "\n",
    "fig.tight_layout()\n",
    "fig.show()\n",
    "fig.savefig(\"mmlu_ece_comparison.pdf\", bbox_inches=\"tight\")"
   ]
  },
  {
   "cell_type": "code",
   "execution_count": null,
   "metadata": {},
   "outputs": [],
   "source": []
  }
 ],
 "metadata": {
  "kernelspec": {
   "display_name": "Python 3",
   "language": "python",
   "name": "python3"
  },
  "language_info": {
   "codemirror_mode": {
    "name": "ipython",
    "version": 3
   },
   "file_extension": ".py",
   "mimetype": "text/x-python",
   "name": "python",
   "nbconvert_exporter": "python",
   "pygments_lexer": "ipython3",
   "version": "3.10.13"
  }
 },
 "nbformat": 4,
 "nbformat_minor": 2
}
