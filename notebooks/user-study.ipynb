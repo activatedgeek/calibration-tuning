{
 "cells": [
  {
   "cell_type": "code",
   "execution_count": null,
   "metadata": {},
   "outputs": [],
   "source": [
    "import pandas as pd\n",
    "import json\n",
    "import seaborn as sns\n",
    "import matplotlib.pyplot as plt\n",
    "\n",
    "sns.set_style(\"whitegrid\")\n",
    "sns.set_context(\"notebook\", font_scale=1.25)"
   ]
  },
  {
   "cell_type": "code",
   "execution_count": null,
   "metadata": {},
   "outputs": [],
   "source": [
    "with open(\"mmlu_user_data_NEW_nyu.json\", \"r\") as f: \n",
    "   saved_data = json.load(f)\n",
    "\n",
    "df = []\n",
    "for user_id, user_data in saved_data.items(): \n",
    "   user_df = pd.read_json(user_data[\"user_df\"])\n",
    "   # user_df[\"comments\"] = user_data[\"comments\"]\n",
    "   df.append(user_df)\n",
    "df = pd.concat(df, ignore_index=True)\n",
    "df.humanCorrect = df.humanCorrect.apply(lambda x: \"Correct\" if x else \"Incorrect\")\n"
   ]
  },
  {
   "cell_type": "code",
   "execution_count": null,
   "metadata": {},
   "outputs": [],
   "source": [
    "df.variant.unique()"
   ]
  },
  {
   "cell_type": "code",
   "execution_count": null,
   "metadata": {},
   "outputs": [],
   "source": [
    "sns.color_palette(\"Paired\")"
   ]
  },
  {
   "cell_type": "code",
   "execution_count": null,
   "metadata": {},
   "outputs": [],
   "source": [
    "for mode in [\"query\", \"ct\", \"rand\"]:\n",
    "    plt_df = df[df.variant == f\"justMConf_mistral_{mode}\"]\n",
    "\n",
    "\n",
    "    fig, ax = plt.subplots(figsize=(5,3))\n",
    "\n",
    "    g = sns.histplot(plt_df, x=\"model_confidence\", hue=\"humanCorrect\", \n",
    "                     stat=\"probability\",\n",
    "                    bins=20, kde=True, ax=ax,\n",
    "                    # palette=[sns.color_palette(\"Set1\")[2], sns.color_palette(\"Set1\")[0]],\n",
    "                    palette=[sns.color_palette(\"Paired\")[7], sns.color_palette(\"Paired\")[3]],\n",
    "                    hue_order=[\"Incorrect\", \"Correct\"])\n",
    "\n",
    "    if mode == \"query\":\n",
    "        ax.get_legend().set(title=\"\", loc=\"upper left\")\n",
    "    else:\n",
    "        ax.get_legend().remove()\n",
    "\n",
    "    g.set(xlabel=r\"Model Confidence ($\\%$)\", ylabel=r\"Proportion ($\\%$)\")\n",
    "    g.figure.show()\n",
    "    g.figure.savefig(f\"user_conf_{mode}.pdf\", bbox_inches=\"tight\")"
   ]
  },
  {
   "cell_type": "code",
   "execution_count": null,
   "metadata": {},
   "outputs": [],
   "source": []
  }
 ],
 "metadata": {
  "kernelspec": {
   "display_name": "Python 3",
   "language": "python",
   "name": "python3"
  },
  "language_info": {
   "codemirror_mode": {
    "name": "ipython",
    "version": 3
   },
   "file_extension": ".py",
   "mimetype": "text/x-python",
   "name": "python",
   "nbconvert_exporter": "python",
   "pygments_lexer": "ipython3",
   "version": "3.11.8"
  }
 },
 "nbformat": 4,
 "nbformat_minor": 2
}
