{
 "cells": [
  {
   "cell_type": "code",
   "execution_count": null,
   "metadata": {},
   "outputs": [],
   "source": [
    "import pandas as pd"
   ]
  },
  {
   "cell_type": "markdown",
   "metadata": {},
   "source": [
    "## Scratch"
   ]
  },
  {
   "cell_type": "code",
   "execution_count": null,
   "metadata": {},
   "outputs": [],
   "source": [
    "# import pandas as pd\n",
    "\n",
    "# raw = pd.read_csv(\"results/raw.csv\")\n",
    "\n",
    "# def q(v):\n",
    "#     if isinstance(v, str):\n",
    "#         if \"Llama-2-7b-all_200k-it-v4kpefi9\" in v:\n",
    "#             return \"all_200k-it\"\n",
    "#         if \"Llama-2-7b-all_200k_c-uq-only-tlnkhnfm/checkpoint-1000\" in v:\n",
    "#             return \"all_200k_c-uq-only-ckpt_1000\"\n",
    "#         if \"Llama-2-7b-all_200k_c-uq-only-tlnkhnfm/checkpoint-5000\" in v:\n",
    "#             return \"all_200k_c-uq-only-ckpt_5000\"\n",
    "#         if \"Llama-2-7b-all_200k_c-uq-only-tlnkhnfm\" in v:\n",
    "#             return \"all_200k_c-uq-only\"\n",
    "\n",
    "#         raise NotImplementedError(v)\n",
    "\n",
    "#     return \"base\"\n",
    "\n",
    "# raw[\"model\"] = raw.peft_dir.apply(q)\n",
    "\n",
    "# raw[\"query_model\"] = raw.query_peft_dir.apply(q)\n",
    "\n",
    "# raw = raw.drop(columns=[\"peft_dir\", \"query_peft_dir\"])\n",
    "\n",
    "# raw.to_csv(\"\", index=False)"
   ]
  },
  {
   "cell_type": "markdown",
   "metadata": {},
   "source": [
    "## Results"
   ]
  },
  {
   "cell_type": "code",
   "execution_count": null,
   "metadata": {},
   "outputs": [],
   "source": [
    "base_cols = [\"split\", \"eval_kshot\", \"model\", \"query_model\"]\n",
    "max_cols = [\"acc\", \"unc_acc\"]\n",
    "min_cols = [\"ece\", \"unc_ece\", \"qa_unc_ece\"]\n",
    "\n",
    "def get_mmlu_all(df):\n",
    "    mmlu = df.groupby([\"dataset\"] + base_cols).mean(numeric_only=True).reset_index()[base_cols + min_cols + max_cols]\n",
    "    return mmlu.groupby(base_cols).mean(numeric_only=True).reset_index()\n",
    "\n",
    "def get_mmlu_max(df):\n",
    "    return df[base_cols + max_cols][(df.eval_kshot == 5) & (df.split == \"test\")].groupby(base_cols).mean(numeric_only=True)\n",
    "\n",
    "def get_mmlu_min(df):\n",
    "    return df[base_cols + min_cols][(df.eval_kshot == 5) & (df.split == \"test\")].groupby(base_cols).mean(numeric_only=True)"
   ]
  },
  {
   "cell_type": "code",
   "execution_count": null,
   "metadata": {},
   "outputs": [],
   "source": [
    "results_all_200k = pd.read_csv(f\"results/eval_7b-all_200k-mmlu.csv\")"
   ]
  },
  {
   "cell_type": "code",
   "execution_count": null,
   "metadata": {},
   "outputs": [],
   "source": [
    "get_mmlu_max(get_mmlu_all(results_all_200k))\n",
    "# mmlu_max.style.highlight_max(color = 'lightgreen', axis = 0)"
   ]
  },
  {
   "cell_type": "code",
   "execution_count": null,
   "metadata": {},
   "outputs": [],
   "source": [
    "get_mmlu_min(get_mmlu_all(results_all_200k))\n",
    "# mmlu_min.style.highlight_min(color = 'lightgreen', axis = 0)"
   ]
  },
  {
   "cell_type": "code",
   "execution_count": null,
   "metadata": {},
   "outputs": [],
   "source": [
    "results_sub_all_200k = pd.read_csv(f\"results/eval_7b-sub_all_200k-mmlu.csv\")"
   ]
  },
  {
   "cell_type": "code",
   "execution_count": null,
   "metadata": {},
   "outputs": [],
   "source": [
    "get_mmlu_max(get_mmlu_all(results_sub_all_200k))\n",
    "# mmlu_max.style.highlight_max(color = 'lightgreen', axis = 0)"
   ]
  },
  {
   "cell_type": "code",
   "execution_count": null,
   "metadata": {},
   "outputs": [],
   "source": [
    "get_mmlu_min(get_mmlu_all(results_sub_all_200k))\n",
    "# mmlu_max.style.highlight_max(color = 'lightgreen', axis = 0)"
   ]
  }
 ],
 "metadata": {
  "kernelspec": {
   "display_name": "llm-calibration",
   "language": "python",
   "name": "python3"
  },
  "language_info": {
   "codemirror_mode": {
    "name": "ipython",
    "version": 3
   },
   "file_extension": ".py",
   "mimetype": "text/x-python",
   "name": "python",
   "nbconvert_exporter": "python",
   "pygments_lexer": "ipython3",
   "version": "3.10.11"
  },
  "orig_nbformat": 4
 },
 "nbformat": 4,
 "nbformat_minor": 2
}
