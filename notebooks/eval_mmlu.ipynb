{
 "cells": [
  {
   "cell_type": "markdown",
   "metadata": {},
   "source": [
    "## Scratch"
   ]
  },
  {
   "cell_type": "code",
   "execution_count": null,
   "metadata": {},
   "outputs": [],
   "source": [
    "import pandas as pd\n",
    "\n",
    "raw = pd.read_csv(\"results/raw.csv\")\n",
    "\n",
    "def q(v):\n",
    "    if isinstance(v, str):\n",
    "        return v.split(\"/\")[-1]\n",
    "\n",
    "    return \"base\"\n",
    "\n",
    "# raw[\"peft_dir\"] = float('nan')\n",
    "# raw[\"query_peft_dir\"] = float('nan')\n",
    "\n",
    "raw[\"model\"] = raw.peft_dir.apply(q)\n",
    "\n",
    "raw[\"query_model\"] = raw.query_peft_dir.apply(q)\n",
    "\n",
    "raw = raw.drop(columns=[\"peft_dir\", \"query_peft_dir\"])\n",
    "\n",
    "# raw.to_csv(\"\", index=False)"
   ]
  },
  {
   "cell_type": "markdown",
   "metadata": {},
   "source": [
    "## Results"
   ]
  },
  {
   "cell_type": "code",
   "execution_count": null,
   "metadata": {},
   "outputs": [],
   "source": [
    "import pandas as pd\n",
    "\n",
    "base_cols = [\"split\", \"eval_kshot\", \"model\", \"query_model\"]\n",
    "max_cols = [\"acc\", \"unc_acc\"]\n",
    "min_cols = [\"logits_ece\", \"unc_ece\", \"ece\"]\n",
    "\n",
    "def get_mmlu_all(df):\n",
    "    mmlu = df.groupby([\"dataset\"] + base_cols).mean(numeric_only=True).reset_index()[base_cols + min_cols + max_cols]\n",
    "    return mmlu.groupby(base_cols).mean(numeric_only=True).reset_index()\n",
    "\n",
    "def get_mmlu(df):\n",
    "    return df[base_cols + max_cols + min_cols][(df.eval_kshot == 5) & (df.split == \"test\")].groupby(base_cols).mean(numeric_only=True)\n",
    "\n",
    "def get_mmlu_max(df):\n",
    "    return df[base_cols + max_cols][(df.eval_kshot == 5) & (df.split == \"test\")].groupby(base_cols).mean(numeric_only=True)\n",
    "\n",
    "def get_mmlu_min(df):\n",
    "    return df[base_cols + min_cols][(df.eval_kshot == 5) & (df.split == \"test\")].groupby(base_cols).mean(numeric_only=True)"
   ]
  },
  {
   "cell_type": "code",
   "execution_count": null,
   "metadata": {},
   "outputs": [],
   "source": [
    "# results = pd.read_csv(\"\")\n",
    "get_mmlu(raw)"
   ]
  }
 ],
 "metadata": {
  "kernelspec": {
   "display_name": "llm-calibration",
   "language": "python",
   "name": "python3"
  },
  "language_info": {
   "codemirror_mode": {
    "name": "ipython",
    "version": 3
   },
   "file_extension": ".py",
   "mimetype": "text/x-python",
   "name": "python",
   "nbconvert_exporter": "python",
   "pygments_lexer": "ipython3",
   "version": "3.10.13"
  },
  "orig_nbformat": 4
 },
 "nbformat": 4,
 "nbformat_minor": 2
}
