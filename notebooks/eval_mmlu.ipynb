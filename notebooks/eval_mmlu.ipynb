{
 "cells": [
  {
   "cell_type": "code",
   "execution_count": null,
   "metadata": {},
   "outputs": [],
   "source": [
    "import pandas as pd\n",
    "import numpy as np\n",
    "import seaborn as sns\n",
    "import seaborn.objects as so\n",
    "from tqdm.auto import tqdm"
   ]
  },
  {
   "cell_type": "code",
   "execution_count": null,
   "metadata": {},
   "outputs": [],
   "source": [
    "import wandb\n",
    "\n",
    "\n",
    "def get_summary_metrics(sweep_id=None, run_ids=None, run_filter_fn=None):\n",
    "  api = wandb.Api(timeout=60)\n",
    "  if sweep_id is not None:\n",
    "    sweep = api.sweep(sweep_id)\n",
    "    runs = sweep.runs\n",
    "  elif run_ids is not None:\n",
    "    runs = [api.run(rid) for rid in run_ids]\n",
    "  else:\n",
    "    raise ValueError\n",
    "\n",
    "  data = []\n",
    "  for run in tqdm(runs, desc='Runs', leave=False):\n",
    "    if callable(run_filter_fn) and not run_filter_fn(run):\n",
    "      continue\n",
    "    data.append(dict(run_id=run.id, tags=run.tags, **run.config, **run.summary))\n",
    "\n",
    "  return pd.DataFrame(data)\n"
   ]
  },
  {
   "cell_type": "code",
   "execution_count": null,
   "metadata": {},
   "outputs": [],
   "source": [
    "# from llm.datasets import get_dataset_attrs\n",
    "\n",
    "# columns = [\n",
    "#     f\"{t}/{s}/{m}\" for m in [\"N\", \"acc\", \"ece\", \"unc_acc\", \"unc_ece\", \"qa_unc_ece\"]\n",
    "#     for s in [\"val\", \"test\"]\n",
    "#     for t in get_dataset_attrs(\"mmlu\").get(\"tasks\")]\n",
    "\n",
    "# eval_7b_run_ids = [\"jb3owvcc\", \"pwdu8g7u\", \"mzbjwqyj\", \"luz8ajx5\", \"bwv5p2mr\", \"kv4frbky\"]\n",
    "\n",
    "# data = get_summary_metrics(run_ids=[f\"deeplearn/llm-calibration/{rid}\" for rid in eval_7b_run_ids])[[\"run_id\", \"tags\", \"eval_kshot\"] + columns]\n",
    "# data = data.melt(id_vars=[\"run_id\", \"tags\", \"eval_kshot\"], value_vars=columns)\n",
    "# data[\"task\"] = data.variable.apply(lambda v: v.split(\"/\")[0])\n",
    "# data[\"split\"] = data.variable.apply(lambda v: v.split(\"/\")[1])\n",
    "# data[\"metric\"] = data.variable.apply(lambda v: v.split(\"/\")[2])\n",
    "# data = data.drop(columns=[\"variable\"])\n",
    "\n",
    "# def _kind(v):\n",
    "#     if \"ft\" in v:\n",
    "#         return \"ft\"\n",
    "#     elif \"uq\" in v:\n",
    "#         return \"uq\"\n",
    "#     return \"7b\"\n",
    "\n",
    "# data[\"kind\"] = data.tags.apply(_kind)\n",
    "# data = data.drop(columns=[\"tags\"])\n",
    "\n",
    "# data.to_csv(\"results/mmlu_eval_7b.csv\", index=False)\n",
    "\n",
    "data = pd.read_csv(\"results/mmlu_eval_7b.csv\")"
   ]
  },
  {
   "cell_type": "code",
   "execution_count": null,
   "metadata": {},
   "outputs": [],
   "source": [
    "data = data.pivot(index=['run_id', 'eval_kshot', 'task', 'split', 'kind'], columns=['metric'], values=['value'])\n",
    "data.columns = [a[-1] for a in data.columns.to_flat_index()]\n",
    "data = data.reset_index()\n",
    "data"
   ]
  },
  {
   "cell_type": "code",
   "execution_count": null,
   "metadata": {},
   "outputs": [],
   "source": [
    "data.groupby([\"eval_kshot\", \"split\", \"kind\"])[[\"acc\", \"ece\", \"unc_acc\", \"qa_unc_ece\"]].mean()"
   ]
  },
  {
   "cell_type": "code",
   "execution_count": null,
   "metadata": {},
   "outputs": [],
   "source": []
  }
 ],
 "metadata": {
  "kernelspec": {
   "display_name": "llm",
   "language": "python",
   "name": "python3"
  },
  "language_info": {
   "codemirror_mode": {
    "name": "ipython",
    "version": 3
   },
   "file_extension": ".py",
   "mimetype": "text/x-python",
   "name": "python",
   "nbconvert_exporter": "python",
   "pygments_lexer": "ipython3",
   "version": "3.10.12"
  },
  "orig_nbformat": 4
 },
 "nbformat": 4,
 "nbformat_minor": 2
}
