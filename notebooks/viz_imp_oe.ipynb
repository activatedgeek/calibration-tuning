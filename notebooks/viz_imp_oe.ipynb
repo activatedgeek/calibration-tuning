{
 "cells": [
  {
   "cell_type": "code",
   "execution_count": null,
   "metadata": {},
   "outputs": [],
   "source": [
    "import pandas as pd\n",
    "import seaborn as sns\n",
    "import matplotlib.pyplot as plt"
   ]
  },
  {
   "cell_type": "code",
   "execution_count": null,
   "metadata": {},
   "outputs": [],
   "source": [
    "base = pd.read_csv(\"results/eval_mmlu-13b_chat-base.csv\")\n",
    "base = base[base.split == \"test\"][[\"dataset\", \"unc_acc\", \"unc_ece\"]]\n",
    "base[\"model\"] = \"base\"\n",
    "\n",
    "ct = pd.read_csv(\"results/eval_mmlu-13b_chat-ct.csv\")\n",
    "ct = ct[ct.split == \"test\"][[\"dataset\", \"unc_acc\", \"unc_ece\"]]\n",
    "ct[\"model\"] = \"ct\"\n",
    "\n",
    "results = pd.concat([base, ct], ignore_index=True)\n",
    "results"
   ]
  },
  {
   "cell_type": "code",
   "execution_count": null,
   "metadata": {},
   "outputs": [],
   "source": [
    "dname_map = {d: idx + 1 for idx, d in enumerate(sorted(results.dataset.unique()))}\n",
    "\n",
    "results[\"task_idx\"] = results.dataset.apply(lambda d: dname_map[d])\n",
    "results[\"unc_ece_100\"] = results[\"unc_ece\"] * 100.\n",
    "results[\"unc_acc_100\"] = results[\"unc_acc\"] * 100.\n",
    "results = results.sort_values(\"task_idx\")"
   ]
  },
  {
   "cell_type": "code",
   "execution_count": null,
   "metadata": {},
   "outputs": [],
   "source": [
    "sns.set_theme(font_scale=2., style=\"whitegrid\")\n",
    "\n",
    "ref = results[results.model == \"base\"][\"unc_ece_100\"].values\n",
    "new = results[results.model == \"ct\"][\"unc_ece_100\"].values\n",
    "\n",
    "g = sns.displot(pd.DataFrame({ \"rel_imp\": -((new - ref) / ref) * 100. }),\n",
    "                # kind=\"kde\", fill=True, bw_adjust=.5,\n",
    "                kde=True, stat=\"count\", kde_kws={\"bw_adjust\": .5, \"cut\": 2}, binwidth=10,\n",
    "                height=4, aspect=5/3, legend=False,\n",
    "                palette=sns.color_palette(\"tab20\")[8:9])\n",
    "\n",
    "g.ax.get_lines()[0].set(linewidth=5)\n",
    "\n",
    "g.set(xlabel=\"ECE Improvement (%)\", title=\"CT v/s Unc. Query\")\n",
    "\n",
    "g.fig.tight_layout()\n",
    "g.fig.show()\n",
    "# g.fig.savefig(\"mmlu_rel_imp_ct_uncq.pdf\", bbox_inches=\"tight\")"
   ]
  },
  {
   "cell_type": "code",
   "execution_count": null,
   "metadata": {},
   "outputs": [],
   "source": [
    "sns.set_theme(font_scale=6., style=\"whitegrid\")\n",
    "\n",
    "fig, ax = plt.subplots(figsize=(200, 40))\n",
    "\n",
    "ax = sns.barplot(ax=ax, data=results,\n",
    "                 x=\"task_idx\", y=\"unc_ece_100\", hue=\"model\",\n",
    "                 width=0.68,\n",
    "                 hue_order=[\"ct\", \"base\"],\n",
    "                 palette=sns.color_palette(\"tab20\")[8:10])\n",
    "\n",
    "ax.set_ylabel(r'$\\mathrm{ECE} (\\%)$', fontsize=250, labelpad=100)\n",
    "# ax.set_yticks(np.arange(0, 60 + 1e-3, 10))\n",
    "ax.set_yticklabels(ax.get_yticklabels(), fontsize=150)\n",
    "\n",
    "ax.set_xlabel('MMLU Task ID', fontsize=200, labelpad=120)\n",
    "ax.set_xticklabels(ax.get_xticklabels(), fontsize=150)\n",
    "\n",
    "handles, labels = ax.get_legend_handles_labels()\n",
    "label_map = { \"base\": \"Base\", \"ct\": \"CT\" }\n",
    "labels = [label_map[l] for l in labels]\n",
    "\n",
    "ax.legend(handles=handles, labels=labels, loc='best',\n",
    "          title='', title_fontsize=200,\n",
    "          prop=dict(size=180))#, bbox_to_anchor=(.91, .7, .1, .1))\n",
    "\n",
    "fig.tight_layout()\n",
    "fig.show()\n",
    "# fig.savefig(\"mmlu_13b_chat_oe_ct_ece.pdf\", bbox_inches=\"tight\")"
   ]
  },
  {
   "cell_type": "code",
   "execution_count": null,
   "metadata": {},
   "outputs": [],
   "source": [
    "sns.set_theme(font_scale=6., style=\"whitegrid\")\n",
    "\n",
    "fig, ax = plt.subplots(figsize=(200, 40))\n",
    "\n",
    "ax = sns.barplot(ax=ax, data=results,\n",
    "                 x=\"task_idx\", y=\"unc_acc_100\", hue=\"model\",\n",
    "                 width=0.68,\n",
    "                 hue_order=[\"ct\", \"base\"],\n",
    "                 palette=sns.color_palette(\"tab20\")[8:10])\n",
    "\n",
    "ax.set_ylabel(r'Query Acc. $(\\%)$', fontsize=250, labelpad=100)\n",
    "# ax.set_yticks(np.arange(0, 60 + 1e-3, 10))\n",
    "ax.set_yticklabels(ax.get_yticklabels(), fontsize=150)\n",
    "\n",
    "ax.set_xlabel('MMLU Task ID', fontsize=200, labelpad=120)\n",
    "ax.set_xticklabels(ax.get_xticklabels(), fontsize=150)\n",
    "\n",
    "handles, labels = ax.get_legend_handles_labels()\n",
    "label_map = { \"base\": \"Base\", \"ct\": \"CT\" }\n",
    "labels = [label_map[l] for l in labels]\n",
    "\n",
    "ax.legend(handles=handles, labels=labels, loc='best',\n",
    "          title='', title_fontsize=200,\n",
    "          prop=dict(size=180))#, bbox_to_anchor=(.91, .7, .1, .1))\n",
    "\n",
    "fig.tight_layout()\n",
    "fig.show()\n",
    "# fig.savefig(\"mmlu_13b_chat_oe_ct_qacc.pdf\", bbox_inches=\"tight\")"
   ]
  },
  {
   "cell_type": "code",
   "execution_count": null,
   "metadata": {},
   "outputs": [],
   "source": []
  }
 ],
 "metadata": {
  "kernelspec": {
   "display_name": "Python 3",
   "language": "python",
   "name": "python3"
  },
  "language_info": {
   "codemirror_mode": {
    "name": "ipython",
    "version": 3
   },
   "file_extension": ".py",
   "mimetype": "text/x-python",
   "name": "python",
   "nbconvert_exporter": "python",
   "pygments_lexer": "ipython3",
   "version": "3.10.13"
  }
 },
 "nbformat": 4,
 "nbformat_minor": 2
}
