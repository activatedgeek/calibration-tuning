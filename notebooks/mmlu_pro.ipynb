{
 "cells": [
  {
   "cell_type": "code",
   "execution_count": null,
   "metadata": {},
   "outputs": [],
   "source": [
    "import pandas as pd"
   ]
  },
  {
   "cell_type": "code",
   "execution_count": null,
   "metadata": {},
   "outputs": [],
   "source": [
    "df = pd.read_csv(\"results/raw.csv\")\n",
    "df.scale_temp = df.scale_temp.apply(lambda x: \"base\" if pd.isna(x) else x)\n",
    "df = df.sort_values(\"dataset\")\n",
    "df.scale_temp.unique()"
   ]
  },
  {
   "cell_type": "code",
   "execution_count": null,
   "metadata": {},
   "outputs": [],
   "source": [
    "# def agg(df):\n",
    "#     df = df.reset_index()\n",
    "\n",
    "#     total_N = df.N.sum()\n",
    "\n",
    "#     return pd.DataFrame(\n",
    "#         [\n",
    "#             {\n",
    "#                 \"N\": total_N,\n",
    "#                 \"unc_ece\": (df.N * df.unc_ece).sum() / total_N,\n",
    "#                 \"unc_auroc\": (df.N * df.unc_auroc).sum() / total_N,\n",
    "#             }\n",
    "#         ]\n",
    "#     )\n",
    "\n",
    "\n",
    "# grouped_data = df.groupby([\"model_name\", \"scale_temp\", \"split\"])\n",
    "# grouped_data[[\"N\", \"unc_auroc\", \"unc_ece\"]].apply(\n",
    "#     agg\n",
    "# )  # .reset_index().drop(columns=[\"level_3\"])"
   ]
  },
  {
   "cell_type": "code",
   "execution_count": null,
   "metadata": {},
   "outputs": [],
   "source": [
    "df.model_name.unique()"
   ]
  },
  {
   "cell_type": "code",
   "execution_count": null,
   "metadata": {},
   "outputs": [],
   "source": [
    "import numpy as np\n",
    "np.mean(df[df.scale_temp == \"base\"].unc_auroc.values <= df[df.scale_temp == \"query\"].unc_auroc.values) #[[\"dataset\", \"unc_ece\"]]"
   ]
  },
  {
   "cell_type": "code",
   "execution_count": null,
   "metadata": {},
   "outputs": [],
   "source": [
    "import numpy as np\n",
    "np.mean(df[df.scale_temp == \"base\"].unc_ece.values >= df[df.scale_temp == \"query\"].unc_ece.values)"
   ]
  },
  {
   "cell_type": "code",
   "execution_count": null,
   "metadata": {},
   "outputs": [],
   "source": [
    "df[df.scale_temp == \"query\"][[\"dataset\", \"unc_ece\"]]"
   ]
  },
  {
   "cell_type": "code",
   "execution_count": null,
   "metadata": {},
   "outputs": [],
   "source": []
  }
 ],
 "metadata": {
  "kernelspec": {
   "display_name": "Python 3",
   "language": "python",
   "name": "python3"
  },
  "language_info": {
   "codemirror_mode": {
    "name": "ipython",
    "version": 3
   },
   "file_extension": ".py",
   "mimetype": "text/x-python",
   "name": "python",
   "nbconvert_exporter": "python",
   "pygments_lexer": "ipython3",
   "version": "3.11.9"
  }
 },
 "nbformat": 4,
 "nbformat_minor": 2
}
