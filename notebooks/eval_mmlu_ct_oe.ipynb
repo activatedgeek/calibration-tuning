{
 "cells": [
  {
   "cell_type": "code",
   "execution_count": null,
   "metadata": {},
   "outputs": [],
   "source": [
    "import matplotlib.pyplot as plt\n",
    "import pandas as pd\n",
    "import seaborn as sns\n",
    "import numpy as np"
   ]
  },
  {
   "cell_type": "code",
   "execution_count": null,
   "metadata": {},
   "outputs": [],
   "source": [
    "# ## Raw preprocessing\n",
    "# results = pd.read_csv(\"results/eval_mmlu-13b_chat-ct-oe.csv\")\n",
    "# results = results.rename(columns={'fuzzy_gpt-3.5-turbo-1106_acc': 'acc',\n",
    "#  'fuzzy_gpt-3.5-turbo-1106_unc_acc': 'unc_acc',\n",
    "#  'fuzzy_gpt-3.5-turbo-1106_unc_ece': 'ece'})\n",
    "# results.loc[results.query_peft_dir.isna(), \"method\"] = \"base\"\n",
    "# results.loc[~results.query_peft_dir.isna(), \"method\"] = \"ct\"\n",
    "# results.to_csv(\"results/eval_mmlu-13b_chat-ct-oe.csv\", index=False)"
   ]
  },
  {
   "cell_type": "code",
   "execution_count": null,
   "metadata": {},
   "outputs": [],
   "source": [
    "results = pd.read_csv(\"results/eval_mmlu-13b_chat-ct-oe.csv\")"
   ]
  },
  {
   "cell_type": "code",
   "execution_count": null,
   "metadata": {},
   "outputs": [],
   "source": [
    "dname_map = {d: idx + 1 for idx, d in enumerate(results.dataset.unique())}\n",
    "\n",
    "plt_results = results[results.split == \"test\"]\n",
    "plt_results[\"task_idx\"] = results.dataset.apply(lambda d: dname_map[d])\n",
    "plt_results[\"ece_100\"] = results[\"ece\"] * 100.\n",
    "plt_results[\"acc_100\"] = results[\"acc\"] * 100.\n",
    "plt_results[\"unc_acc_100\"] = results[\"unc_acc\"] * 100.\n",
    "plt_results = plt_results.sort_values(\"task_idx\")\n",
    "plt_results"
   ]
  },
  {
   "cell_type": "code",
   "execution_count": null,
   "metadata": {},
   "outputs": [],
   "source": [
    "sns.set_theme(font_scale=1.5, style=\"whitegrid\")\n",
    "\n",
    "ref = plt_results[plt_results.method == \"base\"][\"ece_100\"].values\n",
    "new = plt_results[plt_results.method == \"ct\"][\"ece_100\"].values\n",
    "\n",
    "g = sns.displot(pd.DataFrame({ \"rel_imp\": -((new - ref) / ref) * 100. }),\n",
    "                # kind=\"kde\", fill=True, bw_adjust=.5,\n",
    "                kde=True, stat=\"count\", kde_kws={\"bw_adjust\": .5, \"cut\": 2}, binwidth=10,\n",
    "                height=5, aspect=4/3, legend=False,\n",
    "                palette=sns.color_palette(\"tab20\")[8:9])\n",
    "\n",
    "g.ax.get_lines()[0].set(linewidth=5)\n",
    "\n",
    "g.set(xlabel=\"ECE Improvement over Untrained Query (%)\")\n",
    "\n",
    "g.fig.tight_layout()\n",
    "g.fig.show()\n",
    "# g.fig.savefig(\"mmlu_rel_imp_qa_oe.pdf\", bbox_inches=\"tight\")"
   ]
  },
  {
   "cell_type": "code",
   "execution_count": null,
   "metadata": {},
   "outputs": [],
   "source": [
    "sns.set_theme(font_scale=6., style=\"whitegrid\")\n",
    "\n",
    "fig, ax = plt.subplots(figsize=(100, 40))\n",
    "\n",
    "ax = sns.barplot(ax=ax, data=plt_results,\n",
    "                 x=\"task_idx\", y=\"ece_100\", hue=\"method\",\n",
    "                 width=0.68,\n",
    "                 hue_order=[\"ct\", \"base\"],\n",
    "                 palette=sns.color_palette(\"tab20\")[8:10])\n",
    "\n",
    "ax.set_ylabel(r'$\\mathrm{ECE} (\\%)$', fontsize=250, labelpad=100)\n",
    "# ax.set_yticks(np.arange(0, 60 + 1e-3, 10))\n",
    "ax.set_yticklabels(ax.get_yticklabels(), fontsize=150)\n",
    "\n",
    "ax.set_xlabel('MMLU Task ID', fontsize=250, labelpad=100)\n",
    "ax.set_xticklabels(ax.get_xticklabels(), fontsize=150)\n",
    "\n",
    "handles, labels = ax.get_legend_handles_labels()\n",
    "label_map = { \"base\": \"Base\", \"ct\": \"CT\" }\n",
    "labels = [label_map[l] for l in labels]\n",
    "\n",
    "ax.legend(handles=handles, labels=labels, loc='best',\n",
    "          title='', title_fontsize=200,\n",
    "          prop=dict(size=180))#, bbox_to_anchor=(.91, .7, .1, .1))\n",
    "\n",
    "fig.tight_layout()\n",
    "fig.show()\n",
    "# fig.savefig(\"mmlu_oe_ece_comparison.pdf\", bbox_inches=\"tight\")"
   ]
  },
  {
   "cell_type": "code",
   "execution_count": null,
   "metadata": {},
   "outputs": [],
   "source": [
    "sns.set_theme(font_scale=6., style=\"whitegrid\")\n",
    "\n",
    "fig, ax = plt.subplots(figsize=(100, 40))\n",
    "\n",
    "ax = sns.barplot(ax=ax, data=plt_results,\n",
    "                 x=\"task_idx\", y=\"acc_100\", hue=\"method\",\n",
    "                 width=0.68,\n",
    "                 hue_order=[\"ct\", \"base\"],\n",
    "                 palette=sns.color_palette(\"tab20\")[8:10])\n",
    "\n",
    "ax.set_ylabel('Query Acc. (%)', fontsize=250, labelpad=100)\n",
    "ax.set_yticks(np.arange(0, 100 + 1e-3, 20))\n",
    "ax.set_yticklabels(ax.get_yticklabels(), fontsize=150)\n",
    "\n",
    "ax.set_xlabel('MMLU Task ID', fontsize=250, labelpad=100)\n",
    "ax.set_xticklabels(ax.get_xticklabels(), fontsize=150)\n",
    "\n",
    "handles, labels = ax.get_legend_handles_labels()\n",
    "label_map = { \"base\": \"Base\", \"ct\": \"CT\" }\n",
    "labels = [label_map[l] for l in labels]\n",
    "\n",
    "ax.legend(handles=handles, labels=labels, loc='best',\n",
    "          title='', title_fontsize=200,\n",
    "          prop=dict(size=180))#, bbox_to_anchor=(.91, .7, .1, .1))\n",
    "\n",
    "fig.tight_layout()\n",
    "fig.show()\n",
    "# fig.savefig(\"mmlu_oe_qacc_comparison.pdf\", bbox_inches=\"tight\")"
   ]
  },
  {
   "cell_type": "code",
   "execution_count": null,
   "metadata": {},
   "outputs": [],
   "source": []
  }
 ],
 "metadata": {
  "kernelspec": {
   "display_name": "Python 3",
   "language": "python",
   "name": "python3"
  },
  "language_info": {
   "codemirror_mode": {
    "name": "ipython",
    "version": 3
   },
   "file_extension": ".py",
   "mimetype": "text/x-python",
   "name": "python",
   "nbconvert_exporter": "python",
   "pygments_lexer": "ipython3",
   "version": "3.10.13"
  }
 },
 "nbformat": 4,
 "nbformat_minor": 2
}
